{
 "cells": [
  {
   "cell_type": "markdown",
   "metadata": {},
   "source": [
    "### 4.2 Free Fall\n",
    "\n",
    "#### 4.2.1 Equivalence of mass\n",
    "\n",
    "Let us apply Newton's 2nd law on an object where only gravity acts, i.e. no normal force affects the motion. Then we obtain\n",
    "\n",
    "$$\\sum F = m\\,a$$\n",
    "$$m\\,g=m\\,a$$\n",
    "$$a=g$$\n",
    "\n",
    "We find the acceleration of the object is independt on its mass.\n"
   ]
  },
  {
   "cell_type": "code",
   "execution_count": 2,
   "metadata": {
    "hide_input": true
   },
   "outputs": [
    {
     "data": {
      "text/html": [
       "<iframe width=\"560\" height=\"315\" src=\"https://www.youtube.com/embed/E43-CfukEgs?rel=0&amp;showinfo=0\" frameborder=\"0\" allowfullscreen></iframe>"
      ],
      "text/plain": [
       "<IPython.core.display.HTML object>"
      ]
     },
     "execution_count": 2,
     "metadata": {},
     "output_type": "execute_result"
    }
   ],
   "source": [
    "from IPython.display import HTML\n",
    "\n",
    "# Youtube\n",
    "HTML('<iframe width=\"560\" height=\"315\" src=\"https://www.youtube.com/embed/E43-CfukEgs?rel=0&amp;showinfo=0\" frameborder=\"0\" allowfullscreen></iframe>')\n"
   ]
  },
  {
   "cell_type": "markdown",
   "metadata": {},
   "source": [
    "##### 4.2.2 Accelerated frames of reference\n",
    "\n",
    "The weight of a body is the force that the body exerts on the scale when it comes into contact with it. So a weight of 981 N is the force that a body with a mass of 100kg exerts on a scale. In principle, the scale consists of a spring that exerts such a strong force that the weight comes to rest. In common parlance and on scales, the weight is not expressed in Newtons, but in kilograms. As you will see below, this convention only really makes sense on earth and in an unaccelerated reference system.\n",
    "\n",
    "<img src=\"figures/4.2_1.png\" width=550px>\n",
    "\n",
    "In the illustration above, the spring force of the scales indicates the weight of the body. This display is the weight of the body. How does the weight change in accelerated frames of reference?\n",
    "\n",
    "*Left:*\n",
    "\n",
    "The balance is in an inertial frame of reference, thus simply $F_W=m\\,g$. \n",
    "\n",
    "*Center:*\n",
    "The scale is in an elevator that is accelerated upwards (in the opposite direction to the acceleration due to gravity). Viewed from the outside (in the inertial system), we use Newton's 2nd law and obtain that the scale displays a force of $F_W=m(g+a)$, i.e. an increased weight. We feel heavier in an elevator, accelerating in the opposite direction to the earth.\n",
    "\n",
    "*Right:*\n",
    "The elevator is accelerated downwards (in the direction of the acceleration due to gravity). The weight is then $F_W=m(g-a)$. The body becomes lighter. If the elevator is accelerated downwards with $g$, i.e. the elevator is in free fall, then the scale no longer shows a weight. The body is weightless.  "
   ]
  },
  {
   "cell_type": "markdown",
   "metadata": {},
   "source": [
    "##### 4.2.3 Atwood machine\n",
    "\n",
    "<img src=\"figures/4.2_2.png\" width=250px>\n",
    "\n",
    "Two weights are attached to a massless rope. The rope lies on a massless and frictionless pulley. We want to determine the acceleration of the masses $m_1$ and $m_2$. To do this, we draw free-body diagrams of the two masses and determine the forces and accelerations acting on them.\n",
    "\n",
    "*Left part of the rope*\n",
    "\n",
    "$$T-m_1\\,g=m_1\\,a$$\n",
    "\n",
    "$$T=m_1(a+g)$$\n",
    "\n",
    "*Right part of the rope*\n",
    "\n",
    "$$m_2\\,g-T=m_2\\,a$$\n",
    "\n",
    "$$T=m_2(g-a)$$\n",
    "\n",
    "After a short calculations we obtain the following results:\n",
    "\n",
    "$$a=\\frac{m_2-m_1}{m_1+m_2}\\,g$$\n",
    "\n",
    "$$T=\\frac{2 m_1 \\, m_2}{m_1+m_2}\\,g$$"
   ]
  },
  {
   "cell_type": "code",
   "execution_count": null,
   "metadata": {},
   "outputs": [],
   "source": []
  }
 ],
 "metadata": {
  "kernelspec": {
   "display_name": "Python 3 (ipykernel)",
   "language": "python",
   "name": "python3"
  },
  "language_info": {
   "codemirror_mode": {
    "name": "ipython",
    "version": 3
   },
   "file_extension": ".py",
   "mimetype": "text/x-python",
   "name": "python",
   "nbconvert_exporter": "python",
   "pygments_lexer": "ipython3",
   "version": "3.12.5"
  }
 },
 "nbformat": 4,
 "nbformat_minor": 4
}
