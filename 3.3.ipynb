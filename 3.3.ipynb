{
 "cells": [
  {
   "cell_type": "markdown",
   "metadata": {},
   "source": [
    "## 3.3 Introduction to Vectors\n",
    "\n",
    "### Addition of vectors\n",
    "\n",
    "Consider that you move an object on the table from position $O$ to position $P$, i.e. move the object along the vector $\\vec{OP}$. Someone else moves the table in another direction indicated by the red vector below. What is the final position of the object in space, i.e. seen from the person that has moved the table?\n",
    "<img src=\"figures/mathe_1.png\" alt=\"vector addition\" style=\"width: 500px;\"/>"
   ]
  },
  {
   "cell_type": "markdown",
   "metadata": {},
   "source": [
    "The object does not move relative to the table, it will remain at position $P$. However, in space the table is moved. The position of the object in space has changed through the additive movements of the table and that on the table. We can describe this with a vector addition:\n",
    "\n",
    "$$\\vec{OS}=\\vec{OP}+\\vec{PS}$$"
   ]
  },
  {
   "cell_type": "markdown",
   "metadata": {},
   "source": [
    "This vector addition of two vectors $\\vec{A}$ and $\\vec{B}$ can be done graphically by translating the vector $\\vec{B}$ to the end of vector $\\vec{A}$. Another approach is the construction of a parallelogram as shown below.\n",
    "\n",
    "$$\\vec{C}=\\vec{A}+\\vec{B}$$\n",
    "\n",
    "<img src=\"figures/mathe_2.png\" alt=\"vector addition\" style=\"width: 600px;\"/>"
   ]
  },
  {
   "cell_type": "markdown",
   "metadata": {
    "hide_input": true
   },
   "source": [
    "### Subtraction of vectors\n",
    "\n",
    "Let us first introduce a negative vector such that \n",
    "$$\\vec{A}-\\vec{A}=0$$\n",
    "\n",
    "<img src=\"figures/mathe_3.png\" alt=\"vector addition\" style=\"width: 200px;\"/>\n",
    "\n",
    "The negative vector has reversed direction. Thus the subtraction subtraction of two arbitrary vectors \n",
    "\n",
    "$$\\vec{A}-\\vec{B}=\\vec{C}$$\n",
    "\n",
    "can be written as the addition of a negative vector.\n",
    "\n",
    "$$\\vec{A}+\\left(\\vec{B}\\right)=\\vec{C}$$\n",
    "\n",
    "or graphically\n",
    "\n",
    "<img src=\"figures/mathe_4.png\" alt=\"vector addition\" style=\"width: 200px;\"/>"
   ]
  },
  {
   "cell_type": "markdown",
   "metadata": {},
   "source": [
    "### Decomposition of a vector\n",
    "\n",
    "\n",
    "The graph below shows the decomposition of a vector in its 3 components alongthe $x$, $y$, and $z$-direction.\n",
    "In general we can decompose a vector by writing:\n",
    "\n",
    "$$\\vec{A}=A_x\\,\\vec{e}_x+A_y\\,\\vec{e}_y+A_z\\,\\vec{e}_z\\tag{3.3.1}$$\n",
    "\n",
    "The vector $\\vec{e}_x$ is the unit vector in $x$-direction. One can read Eq. (3.3.1) as a vectoraddition of 3 vectors.\n",
    "\n",
    "<img src=\"figures/mathe_5.png\" alt=\"vector addition\" style=\"width: 300px;\"/>"
   ]
  },
  {
   "cell_type": "code",
   "execution_count": 1,
   "metadata": {},
   "outputs": [
    {
     "data": {
      "application/vnd.jupyter.widget-view+json": {
       "model_id": "283b38d2cb084b608f1ce1a0dcb21d0a",
       "version_major": 2,
       "version_minor": 0
      },
      "text/plain": [
       "interactive(children=(FloatSlider(value=0.5, description='$x$', max=1.0, min=-1.0), FloatSlider(value=-0.5, de…"
      ]
     },
     "execution_count": 1,
     "metadata": {},
     "output_type": "execute_result"
    }
   ],
   "source": [
    "%matplotlib inline\n",
    "%config InlineBackend.close_figures=False \n",
    "import ipywidgets as widgets\n",
    "import matplotlib.pyplot as plt\n",
    "from mpl_toolkits.mplot3d import Axes3D\n",
    "import mpl_toolkits.mplot3d as mp3d\n",
    "\n",
    "import numpy as np\n",
    "xy_plane = [(-1, -1, 0),\n",
    "           (1, -1, 0),\n",
    "           (1, 1, 0),\n",
    "           (-1, 1, 0),\n",
    "           ]\n",
    "xz_plane = [(-1, 0, -1),\n",
    "           (1, 0, -1),\n",
    "           (1, 0, 1),\n",
    "           (-1, 0, 1),\n",
    "           ]\n",
    "yz_plane = [(0, -1, -1),\n",
    "           (0, 1, -1),\n",
    "           (0, 1, 1),\n",
    "           (0, -1, 1),\n",
    "           ]\n",
    "\n",
    "fig = plt.figure(figsize=(12,8))\n",
    "ax = fig.add_subplot(111, projection='3d')\n",
    "\n",
    "fig.suptitle(\"Location Vector in Cartesean Coordinates\")\n",
    "\n",
    "def update_plot(x1, y1, z1):\n",
    "    ax.clear()\n",
    "    plt.plot([-1.,1],[0,0],[0,0],\"k--\")\n",
    "    plt.plot([0,0],[-1.,1],[0,0],\"k--\")\n",
    "    plt.plot([0,0],[0,0],[-1.,1],\"k--\")\n",
    "\n",
    "    plt.plot([0,x1],[0,y1],[0,z1],'g',linewidth=2)\n",
    "    #shadows\n",
    "    plt.plot([0,x1],[0,y1],[0,0],'k',linewidth=0.5)\n",
    "    plt.plot([0,x1],[0,y1],[0,0],'k',linewidth=0.5)\n",
    "    \n",
    "    plt.plot([0,0],[0,y1],[0,z1],'k',linewidth=0.5)\n",
    "    plt.plot([0,x1],[0,0],[0,z1],'k',linewidth=0.5)\n",
    "    ax.text(1,0,0,r'$x$'); ax.text(0,1,0,r'$y$'); ax.text(0,0,1,r'$z$')\n",
    "    ax.text(x1,y1,z1,r'$P(x,y,z)$')\n",
    "    ax.scatter(x1, y1, z1, c='g', marker='o')\n",
    "    face1 = mp3d.art3d.Poly3DCollection([xy_plane], alpha=0.1, linewidth=1)\n",
    "    face1.set_facecolor((0, 0, 1, 0.1))\n",
    "    ax.add_collection3d(face1)\n",
    "    face2 = mp3d.art3d.Poly3DCollection([xz_plane], alpha=0.1, linewidth=1)\n",
    "    face2.set_facecolor((0, 0, 1, 0.1))\n",
    "    ax.add_collection3d(face2)\n",
    "    face3 = mp3d.art3d.Poly3DCollection([yz_plane], alpha=0.1, linewidth=1)\n",
    "    face3.set_facecolor((0, 0, 1, 0.1))\n",
    "    ax.add_collection3d(face3)\n",
    "    \n",
    "    ax.set_xlim(-1, 1.)\n",
    "    ax.set_ylim(-1, 1.)\n",
    "    ax.set_zlim(-1, 1.)\n",
    "    ax.set_xlabel('x-axis')\n",
    "    ax.set_ylabel('y-axis')\n",
    "    ax.set_zlabel('z-axis')\n",
    "    \n",
    "    plt.tight_layout()\n",
    "    plt.show()\n",
    "\n",
    "\n",
    "x1 = widgets.FloatSlider(min=-1, max=1, value=.5, step=0.1, description='$x$')\n",
    "y1 = widgets.FloatSlider(min=-1, max=1, value=-.5, step = 0.1, description='$y$')\n",
    "z1 = widgets.FloatSlider(min=-1, max=1, value=.5, step=0.1, description='$z$')\n",
    "widgets.interactive(update_plot, x1=x1, y1=y1, z1=z1)"
   ]
  },
  {
   "cell_type": "markdown",
   "metadata": {},
   "source": [
    "### Magnitude or length of a vector\n",
    "\n",
    "The mathematical operation for the magnitude of a vector are two verticle lines left and right to the vector as such  $\\left|\\dots\\right|$. This value is calculate in cartesian coordinates as \n",
    "\n",
    "$$\\left|\\vec{A}\\right|=\\sqrt{A_x^2+A_y^2+A_z^2}$$\n",
    "\n",
    "\n",
    "### Example\n",
    "\n",
    "$$\\vec{A}=3\\vec{e}_x-5\\vec{e}_y+6\\vec{e}_z$$\n",
    "\n",
    "$$\\left|\\vec{A}\\right|=\\sqrt{9+25+36}=\\sqrt{70}$$\n",
    "\n",
    "$$\\cos\\theta=\\frac{A_z}{\\left|\\vec{A}\\right|}=\\frac{6}{\\sqrt{70}}$$"
   ]
  },
  {
   "cell_type": "markdown",
   "metadata": {},
   "source": [
    "## Multiplication of a vector\n",
    "\n",
    "Vectors can be multiplied with each other to obtain a scalar quantity or a vector quantity as a result. \n",
    "\n",
    "### Scalar product\n",
    "\n",
    "The product between two vectors to obtain a scalar is the following:\n",
    "\n",
    "$$\\vec{A}\\cdot\\vec{B}=A_x B_x + A_y B_y + A_z B_z$$\n",
    "\n",
    "<img src=\"figures/mathe_7.png\" alt=\"vector addition\" style=\"width: 80px;\"/>\n",
    "\n",
    "It can be also caculated through the the angle  $\\theta$ between the two vectors as\n",
    "\n",
    "$$\\vec{A}\\cdot\\vec{B}=\\left|\\vec{A}\\right|\\,\\left|\\vec{B}\\right|\\cos\\theta$$\n",
    "\n",
    "The result is a number or scalar quantity!\n",
    "\n",
    "The result is $>0$ for angles between $0^\\circ<\\theta<90^\\circ$, exactly zero for $0$ for $\\theta=90^\\circ$ and $<0$ for $90^\\circ>\\theta>180^\\circ$. \n",
    "\n",
    "##### Examples\n",
    "\n",
    "1. $\\vec{A}\\cdot\\vec{B}$ mit $\\vec{A}=3\\vec{e}_x-5\\vec{e}_y+6\\vec{e}_z$ und $\\vec{B}=2\\vec{e}_y$\n",
    "\n",
    "$$3\\cdot0 + (-5)\\cdot 2 + 6\\cdot 0 =-10$$\n",
    "\n",
    "2. $\\vec{A}=\\vec{e}_y$ und $\\vec{B}=\\vec{e}_z$\n",
    "\n",
    "$$\\vec{A}\\cdot\\vec{B}=0$$ "
   ]
  },
  {
   "cell_type": "markdown",
   "metadata": {},
   "source": [
    "### Vector or cross product\n",
    "\n",
    "\n",
    "This is the vector or cross product written mathematically:\n",
    "\n",
    "$$\\vec{A}\\times\\vec{B}=\\vec{C}$$\n",
    "\n",
    "The result is a vector, while the scalar product results to a number.\n",
    "\n",
    "The following rule of thumb allows to calculate the cross product. Therefore, you write a matrix in such a way, that the first row contains the cartesian unit vectors, the second row the elements of vector $\\vec{A}$) and the third row the element of vector $\\vec{B}$.\n",
    "\n",
    "<img src=\"figures/mathe_6.png\" alt=\"vector addition\" style=\"width: 400px;\"/>\n",
    "Then you add the products along the the three green diagonals, and subtract along the products of the red diagonals. This way you obtain:\n",
    "\n",
    "\n",
    "$$\\vec{C}=\\underbrace{\\left(A_y B_z-A_z B_y\\right)}_{C_x}\\,\\vec{e}_x+\n",
    "\\underbrace{\\left(A_z B_x-A_x B_z\\right)}_{C_y}\\,\\vec{e}_y+\n",
    "\\underbrace{\\left(A_x B_y-A_y B_x\\right)}_{C_z}\\,\\vec{e}_z$$\n",
    "\n",
    "$$\\vec{C}=C_x\\vec{e}_x+C_y\\vec{e}_y+C_z\\vec{e}_z$$\n",
    "\n",
    "\n",
    "\n",
    "<img src=\"figures/mathe_7.png\" alt=\"vector addition\" style=\"width: 100px;\"/>\n",
    "\n",
    "The magnitude of the vector $\\vec{C}$ can be obtained as \n",
    "\n",
    "$$\\left|\\vec{C}\\right|=\\left|\\vec{A}\\right|\\,\\left|\\vec{B}\\right|\\sin \\theta\\tag{2}$$\n",
    "\n",
    "To approximate the direction of the vector product you may use the right hand rule\n",
    "\n",
    "<img src=\"figures/mathe_8.png\" alt=\"vector addition\" style=\"width: 250px;\"/>\n"
   ]
  },
  {
   "cell_type": "markdown",
   "metadata": {},
   "source": [
    "As we are drawing vectors typically in 2d, a convention has established that tells us if a vector points in or out of the plane of drawing. If the the vector points into the sheet/white board as for the above exaample $\\vec{A}\\times\\vec{B}$ we indicate this with  a cross surrounded by a circle, i.e. \n",
    "\n",
    "\n",
    "<img src=\"figures/mathe_9.png\" alt=\"vector addition\" style=\"width: 30px;\"/>\n",
    "\n",
    "This symbolizes an arrow pointing away from the observer.\n",
    "\n",
    "If however the vector points towards the observer of the sheet a dot surrounded by circle is drawn. \n",
    "\n",
    "<img src=\"figures/mathe_10.png\" alt=\"vector addition\" style=\"width: 30px;\"/>\n",
    "\n",
    "This symbolizes an arrow pointing to the observer. For the above two vectors this could be obtained as $\\vec{A}\\times-\\vec{B}$. Please use the right-hand rule to check!\n",
    "\n",
    "Using Eq. (2) and the right hand rule we can establish:\n",
    "\n",
    "$$\\vec{A}\\times\\vec{B}=-\\vec{B}\\times\\vec{A}\\quad .$$\n",
    "\n",
    "\n",
    "Also for all right-handed coordinate system the following expression holds:\n",
    "\n",
    "$$\\vec{e}_x\\times\\vec{e}_y=\\vec{e}_z$$\n",
    "\n",
    "Here we will only use a right handed coordinate system (likely this is the only cartesian coordinate system you will use in your studies)."
   ]
  },
  {
   "cell_type": "markdown",
   "metadata": {},
   "source": [
    "This may however not be true in physics engines used in computer gaming, here are some examples:\n",
    "\n",
    "<img src=\"figures/mathe_11.png\" alt=\"vector addition\" style=\"width: 450px;\"/>\n",
    "\n",
    "Seems Minecraft is making your live easier than others\n",
    "\n",
    "\n",
    "<img src=\"figures/mathe_12.jpg\" alt=\"vector addition\" style=\"width: 650px;\"/>"
   ]
  }
 ],
 "metadata": {
  "kernelspec": {
   "display_name": "Python 3 (ipykernel)",
   "language": "python",
   "name": "python3"
  },
  "language_info": {
   "codemirror_mode": {
    "name": "ipython",
    "version": 3
   },
   "file_extension": ".py",
   "mimetype": "text/x-python",
   "name": "python",
   "nbconvert_exporter": "python",
   "pygments_lexer": "ipython3",
   "version": "3.9.12"
  }
 },
 "nbformat": 4,
 "nbformat_minor": 4
}
