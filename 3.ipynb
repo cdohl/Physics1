{
 "cells": [
  {
   "cell_type": "markdown",
   "metadata": {},
   "source": [
    "## 3. Motion of  Point-like Objects\n",
    "\n",
    "* To describe the motion of point like objects we use the following notation\n",
    "\n",
    "  $$ \\underbrace{\\vec{r}(t)}_{\\text{location as a function of time}} \\leftrightarrow \\underbrace{\\vec{v}(t)}_{\\text{velocity}} \\leftrightarrow \\underbrace{\\vec{a}(t)}_{\\text{acceleration}}$$\n",
    "\n",
    "* point-like objects with mass $m$ \n",
    "  the total mass of the object is located at one point (zero volume), i.e. for planetary motion\n",
    "  \n",
    "* extended bodies (rigid body)\n",
    "  system of point masses with fixed distances to each other\n",
    "\n",
    "### 3.1 Definition of velocity and acceleration \n",
    "\n",
    "* $\\vec{r}(t)$ ⇒ we focus first on one dimensional motion, i.e. a single component of the location vector changes with time $t$. Let us the x-axis for this motion, $x(t)$. Then we can plot the location $x$ as a function of time in a graph as below.\n",
    "  \n",
    "<img src=\"figures/3.2_1.png\" alt=\"average velocity graph\" style=\"width: 500px;\"/>"
   ]
  },
  {
   "cell_type": "markdown",
   "metadata": {},
   "source": [
    "$$ t_2 = t_1 +\\Delta t \\quad \\Delta t=t_2-t_1$$\n",
    "\n",
    "$$ x_2 = x_1 +\\Delta x \\quad \\Delta x=x_2-x_1$$\n",
    "\n",
    "**Average Velocity**\n",
    "\n",
    "$$\\bar{v}_x=\\left< v_x \\right> = \\frac{x_2-x_1}{t_2-t_1}=\\frac{\\Delta x}{\\Delta t}$$\n",
    "\n",
    "What happens once we reduce the temporal interval $\\Delta t$?\n",
    "\n",
    "Please play with the program below and demonstrate that a reduction of the interval $[t_1,t_2]$ results in a better approximation of the slope."
   ]
  },
  {
   "cell_type": "code",
   "execution_count": 4,
   "metadata": {
    "hide_input": true
   },
   "outputs": [
    {
     "data": {
      "application/vnd.jupyter.widget-view+json": {
       "model_id": "070a610b7706433897618ff629259820",
       "version_major": 2,
       "version_minor": 0
      },
      "text/plain": [
       "interactive(children=(FloatRangeSlider(value=(0.5, 0.8), description='$[t_1,t_2]$:', max=0.9, min=0.1, readout…"
      ]
     },
     "metadata": {},
     "output_type": "display_data"
    },
    {
     "data": {
      "text/plain": [
       "<Figure size 576x432 with 0 Axes>"
      ]
     },
     "metadata": {},
     "output_type": "display_data"
    }
   ],
   "source": [
    "%matplotlib inline\n",
    "%config InlineBackend.close_figures=False \n",
    "\n",
    "import ipywidgets as widgets\n",
    "import matplotlib.pyplot as plt\n",
    "import matplotlib as mpl\n",
    "import numpy as np\n",
    "mpl.rcParams['font.size'] = 15\n",
    "\n",
    "t = np.linspace(0., 1., 1000)\n",
    "v = t**3\n",
    "plt.figure(1, figsize=(8, 6));\n",
    "\n",
    "def update_plot(t1t2):\n",
    "    \n",
    "    ax=plt.gca()\n",
    "    ax.clear()\n",
    "    ax.plot(t,v)\n",
    "    ax.plot(t1t2[0],t1t2[0]**3,'ko')\n",
    "    ax.plot(t1t2[1],t1t2[1]**3,'ko')\n",
    "    ax.plot([t1t2[0],t1t2[1]],[t1t2[0]**3,t1t2[1]**3],'g')\n",
    "    ax.plot([t1t2[0],t1t2[0]],[0,t1t2[0]**3] ,'k-.')\n",
    "    ax.plot([t1t2[1],t1t2[1]],[0,t1t2[1]**3] ,'k-.')\n",
    "    ax.plot([0,t1t2[0]],[t1t2[0]**3,t1t2[0]**3] ,'k-.')\n",
    "    ax.plot([0,t1t2[1]],[t1t2[1]**3,t1t2[1]**3] ,'k-.')\n",
    "    ax.arrow(t1t2[0], t1t2[0]**3, t1t2[1]-t1t2[0], 0, lw=1., fc='k', ec='k', head_width=.02, head_length=.02, length_includes_head=True)\n",
    "    ax.arrow(t1t2[1], t1t2[0]**3, t1t2[0]-t1t2[1], 0, lw=1., fc='k', ec='k', head_width=.02, head_length=.02, length_includes_head=True)\n",
    "    ax.text(t1t2[0]+(t1t2[1]-t1t2[0])/2.-0.04,t1t2[0]**3-0.07,r'$\\Delta t$')\n",
    "    ax.arrow(t1t2[1], t1t2[0]**3, 0, t1t2[1]**3-t1t2[0]**3, lw=1., fc='k', ec='k', head_width=.02, head_length=.02, length_includes_head=True)\n",
    "    ax.arrow(t1t2[1], t1t2[1]**3, 0, t1t2[0]**3-t1t2[1]**3, lw=1., fc='k', ec='k', head_width=.02, head_length=.02, length_includes_head=True)\n",
    "    ax.text(t1t2[1]+0.02,t1t2[0]**3+(t1t2[1]**3-t1t2[0]**3)/2.-0.04,r'$\\Delta x$')\n",
    "    \n",
    "\n",
    "    ax.set_xlabel(r'time $t$')\n",
    "    ax.set_ylabel('location $x$')\n",
    "    ax.set_xlim(0, 1.)\n",
    "    ax.set_ylim(0, 1.)\n",
    "    plt.xticks([t1t2[0],t1t2[1]], [r'$t_1$',r'$t_2$'])\n",
    "    plt.yticks([t1t2[0]**3,t1t2[1]**3], [r'$x_1$',r'$x_2$'])\n",
    "    plt.show();\n",
    "\n",
    "tv = widgets.FloatRangeSlider(value=[.5, .8], min=.1, max =.9, step=0.02, \n",
    "                              description=r'$[t_1,t_2]$:',\n",
    "    orientation='horizontal', readout=True, readout_format='.1f')\n",
    "widgets.interactive(update_plot, t1t2=tv)"
   ]
  },
  {
   "cell_type": "markdown",
   "metadata": {
    "hide_input": false
   },
   "source": [
    "**Definition of the instantaneous velocity**\n",
    "\n",
    "$$\\lim_{\\Delta t\\rightarrow 0} \\frac{\\Delta x}{\\Delta t} = \\frac{\\mathrm{d}x}{\\mathrm{d}t}=v_x$$\n",
    "\n",
    "\n",
    "**Accleration**\n",
    "\n",
    "Change of velocity!\n",
    "\n",
    "<img src=\"figures/3.2_3.png\" alt=\"average velocity graph\" style=\"width: 500px;\"/>"
   ]
  },
  {
   "cell_type": "markdown",
   "metadata": {
    "hide_input": true
   },
   "source": [
    "as above we change use a time interval\n",
    "\n",
    "$$ t_2 = t_1 +\\Delta t \\quad \\Delta t=t_2-t_1$$\n",
    "\n",
    "$$ v_{x2} = v_{x1} +\\Delta v \\quad \\Delta v=v_{x2}-v_{x1}$$\n",
    "\n",
    "**Average acceleration**\n",
    "\n",
    "$$\\bar{a}_x=\\left< a_x \\right> = \\frac{v_{x2}-v_{x1}}{t_2-t_1}=\\frac{\\Delta v}{\\Delta t}$$"
   ]
  },
  {
   "cell_type": "code",
   "execution_count": 5,
   "metadata": {
    "hide_input": false
   },
   "outputs": [
    {
     "data": {
      "application/vnd.jupyter.widget-view+json": {
       "model_id": "a9d51563bfaa45f7b4ca919a588c5452",
       "version_major": 2,
       "version_minor": 0
      },
      "text/plain": [
       "interactive(children=(FloatRangeSlider(value=(0.5, 0.8), description='$[t_1,t_2]$:', max=0.9, min=0.1, readout…"
      ]
     },
     "metadata": {},
     "output_type": "display_data"
    },
    {
     "data": {
      "text/plain": [
       "<Figure size 576x432 with 0 Axes>"
      ]
     },
     "metadata": {},
     "output_type": "display_data"
    }
   ],
   "source": [
    "%matplotlib inline\n",
    "%config InlineBackend.close_figures=False \n",
    "\n",
    "import ipywidgets as widgets\n",
    "import matplotlib.pyplot as plt\n",
    "import matplotlib as mpl\n",
    "import numpy as np\n",
    "mpl.rcParams['font.size'] = 15\n",
    "\n",
    "t = np.linspace(0., 1., 1000)\n",
    "a = t**2\n",
    "plt.figure(1, figsize=(8, 6));\n",
    "\n",
    "def update_plot(t1t2):\n",
    "    \n",
    "    ax=plt.gca()\n",
    "    ax.clear()\n",
    "    ax.plot(t,a)\n",
    "    ax.plot(t1t2[0],t1t2[0]**2,'ko')\n",
    "    ax.plot(t1t2[1],t1t2[1]**2,'ko')\n",
    "    ax.plot([t1t2[0],t1t2[1]],[t1t2[0]**2,t1t2[1]**2],'g')\n",
    "    ax.plot([t1t2[0],t1t2[0]],[0,t1t2[0]**2] ,'k-.')\n",
    "    ax.plot([t1t2[1],t1t2[1]],[0,t1t2[1]**2] ,'k-.')\n",
    "    ax.plot([0,t1t2[0]],[t1t2[0]**2,t1t2[0]**2] ,'k-.')\n",
    "    ax.plot([0,t1t2[1]],[t1t2[1]**2,t1t2[1]**2] ,'k-.')\n",
    "    ax.arrow(t1t2[0], t1t2[0]**2, t1t2[1]-t1t2[0], 0, lw=1., fc='k', ec='k', head_width=.02, head_length=.02, length_includes_head=True)\n",
    "    ax.arrow(t1t2[1], t1t2[0]**2, t1t2[0]-t1t2[1], 0, lw=1., fc='k', ec='k', head_width=.02, head_length=.02, length_includes_head=True)\n",
    "    ax.text(t1t2[0]+(t1t2[1]-t1t2[0])/2.-0.04,t1t2[0]**2-0.07,r'$\\Delta t$')\n",
    "    ax.arrow(t1t2[1], t1t2[0]**2, 0, t1t2[1]**2-t1t2[0]**2, lw=1., fc='k', ec='k', head_width=.02, head_length=.02, length_includes_head=True)\n",
    "    ax.arrow(t1t2[1], t1t2[1]**2, 0, t1t2[0]**2-t1t2[1]**2, lw=1., fc='k', ec='k', head_width=.02, head_length=.02, length_includes_head=True)\n",
    "    ax.text(t1t2[1]+0.02,t1t2[0]**2+(t1t2[1]**2-t1t2[0]**2)/2.-0.04,r'$\\Delta v_x$')\n",
    "    \n",
    "\n",
    "    ax.set_xlabel(r'Time $t$')\n",
    "    ax.set_ylabel('Velocity $v_x$')\n",
    "    ax.set_xlim(0, 1.)\n",
    "    ax.set_ylim(0, 1.)\n",
    "    plt.xticks([t1t2[0],t1t2[1]], [r'$t_1$',r'$t_2$'])\n",
    "    plt.yticks([t1t2[0]**2,t1t2[1]**2], [r'$v_{x1}$',r'$v_{x2}$'])\n",
    "    plt.show();\n",
    "\n",
    "tv = widgets.FloatRangeSlider(value=[.5, .8], min=.1, max =.9, step=0.02, \n",
    "                              description=r'$[t_1,t_2]$:',\n",
    "    orientation='horizontal', readout=True, readout_format='.1f')\n",
    "widgets.interactive(update_plot, t1t2=tv)"
   ]
  },
  {
   "cell_type": "markdown",
   "metadata": {
    "hide_input": true
   },
   "source": [
    "**Instantaneous Acceleration**\n",
    "\n",
    "$$\\lim_{\\Delta t\\rightarrow 0} \\frac{\\Delta v_x}{\\Delta t} = \\frac{\\mathrm{d}v_x}{\\mathrm{d}t}=a_x$$\n",
    "\n",
    "$$a_x=\\frac{\\mathrm{d}^2 x}{\\mathrm{d} t^2}$$\n",
    "\n",
    "Derivatives of physical quantity with respect to time are conveniently abbreviated with a dot centered above the quantity. Thus, it reads here\n",
    "\n",
    "$$v_x=\\frac{\\mathrm{d}x}{\\mathrm{d}t}=\\dot{x}$$\n",
    "and\n",
    "$$a_x=\\frac{\\mathrm{d}^2 x}{\\mathrm{d}t^2}=\\ddot{x}$$\n"
   ]
  },
  {
   "cell_type": "markdown",
   "metadata": {},
   "source": [
    "### Example\n",
    "\n",
    "The position as a function of time $x(t)$ is a parabola:\n",
    "\n",
    "$$x(t) = 8-6t+t^2\\quad \\mathrm{m}$$\n",
    "\n",
    "A derivative with respect to time gives us the instanenous velocity\n",
    "\n",
    "$$v(t) = -6 +2t\\quad \\mathrm{m/s}$$\n",
    "\n",
    "and a second derivative with respect to time results in the acceleration\n",
    "\n",
    "$$a = 2\\,\\mathrm{m/s}^2$$\n",
    "\n",
    "At time $t=0$: \n",
    "$$ x=+8\\,\\mathrm{m}\\quad v=-6\\,\\mathrm{m/s}\\quad a=+2\\,\\mathrm{m/s}^2$$\n",
    "\n",
    "When ist $x=0$? You need to solve the following quadratic equation and obtain:\n",
    "\n",
    "$$ t=2\\,\\mathrm{s}\\quad t=4\\,\\mathrm{s}$$ \n",
    "\n",
    "When and where is the velocity zero?\n",
    "\n",
    "$$ t=3\\,\\mathrm{s}\\quad x=-1\\,\\mathrm{m}$$\n",
    "\n",
    "\n",
    "*Your part, rewrite the three equations for location, velocity and acceleration such that it is correct with respect to dimensions. Use meter as length scale and seconds as time scale.*"
   ]
  },
  {
   "cell_type": "code",
   "execution_count": 6,
   "metadata": {
    "hide_input": false,
    "scrolled": false
   },
   "outputs": [
    {
     "data": {
      "image/png": "[encoded data removed]",
      "text/plain": [
       "<Figure size 576x288 with 1 Axes>"
      ]
     },
     "metadata": {
      "needs_background": "light"
     },
     "output_type": "display_data"
    }
   ],
   "source": [
    "%matplotlib inline\n",
    "import matplotlib.pyplot as plt\n",
    "import numpy as np\n",
    "mpl.rcParams['font.size'] = 15\n",
    "\n",
    "#time variable\n",
    "t=np.linspace(0,6,100)\n",
    "#equation \n",
    "x=8-6*t+t**2\n",
    "#determine the position\n",
    "ts=[0,2,4,3]\n",
    "xs=[8,0,0,-1]\n",
    "#Plotting\n",
    "plt.figure(1, figsize=(8, 4))\n",
    "ax = plt.subplot2grid((1, 4), (0, 0), colspan=3)\n",
    "ax.plot(t,x)\n",
    "ax.plot(ts,xs,'o',ms=12)\n",
    "ax.axhline(color='k',linewidth=1);ax.axvline(color='k',linewidth=1)\n",
    "ax.set_xlabel('time (s)');ax.set_ylabel('x (m)');"
   ]
  },
  {
   "cell_type": "markdown",
   "metadata": {},
   "source": [
    "### General one dimensional equation of motion for constant acceleration\n",
    "\n",
    "$$x(t)=C_1 + C_2 t +C_3 t^2$$\n",
    "\n",
    "$$v(t)= C_2 + 2 C_3 t$$\n",
    "\n",
    "$$a = 2 C_3$$\n",
    "\n",
    "where $C_1, C_2, C_3$ are real constants. The constants have the following context:\n",
    "\n",
    "$$\\begin{eqnarray}\n",
    "  C_1 &=& x(t=0)=x_0 \\, , \\\\\n",
    "  C_2 &=& v(t=0)=v_0 \\, , \\\\\n",
    "  C_3 &=& \\frac{1}{2} a\\quad .\\\\\n",
    "\\end{eqnarray}$$\n",
    "\n",
    "  \n",
    "We can thus write above equation in the meaningful way:\n",
    "\n",
    "\n",
    "$$x(t)=x_0 + v_0 t +\\frac{1}{2}a t\\tag{3.1.1}$$\n",
    "\n",
    "\n",
    "\n"
   ]
  },
  {
   "cell_type": "markdown",
   "metadata": {
    "hide_input": true
   },
   "source": [
    "### Free Fall\n",
    "\n",
    "Let us use above equation to describe the motion of a ball dropped from a height $x$ at time $t=0$. Initially the ball is at rest. We have the freedom to choose the direction of $x$-direction.\n",
    "\n",
    "<img src=\"figures/3.2_2.png\" alt=\"free fall\" style=\"width: 500px;\"/>\n",
    "\n",
    "\n",
    "The constant gravitational accleration in Magdeburg is \n",
    "\n",
    "$$a=g=9.81\\,\\mathrm{m/s}^2$$\n",
    "\n",
    "With this knowledge we can solve for the distance/height of fall $h$, and the fall time for a distance/height $t$, i.e. \n",
    "\n",
    "$$h=\\frac{1}{2}g t^2$$\n",
    "\n",
    "$$t=\\sqrt{2}\\sqrt{\\frac{h}{g}}$$\n",
    "\n",
    "Let us now compare this result with Eq. (2.2). The unknown constant from our dimensional analysis is $C=\\sqrt{2}$."
   ]
  },
  {
   "cell_type": "markdown",
   "metadata": {},
   "source": [
    "### Summary One-Dimensional Motion \n",
    "\n",
    "* at rest\n",
    "  $$x=\\mathrm{const.}, \\quad v_x =0, \\quad a_x = 0$$\n",
    "\n",
    "\n",
    "* constant velocity\n",
    "  $$x=x(t), \\quad v_x = \\mathrm{const.}, \\quad a_x = 0$$\n",
    "\n",
    "\n",
    "* constant acceleration \n",
    "  $$x=x(t), \\quad v_x =v_x(t), \\quad a_x = \\mathrm{const.}$$\n",
    "\n",
    "\n",
    "* non-constant acceleration\n",
    "  $$x=x(t), \\quad v_x =v_x(t), \\quad a_x = a(t)$$\n"
   ]
  },
  {
   "cell_type": "markdown",
   "metadata": {},
   "source": [
    "### 3.2 Position Vector in Cartesian Coordinate System \n",
    "\n",
    "* Three directions, which are pairwise orthogonal to each other\n",
    "\n",
    "* These directions are along the unit vectors\n",
    "  $$\\vec{e}_x, \\quad \\vec{e}_y, \\quad \\vec{e}_z$$\n",
    "  \n",
    "  ⇒ Their orientation is given by the right hand rule for a right handed coordinate system.\n",
    "  \n",
    "  $$\\vec{e}_x\\,\\underbrace{\\times}_{\\text{vector/cross product}}\\,\\vec{e}_y=\\vec{e}_z$$\n",
    "  \n",
    "  The length of the unit vectors is always 1, the unit vector has *no* physical unit.\n",
    "  \n",
    "  $$\\left|\\vec{e}_x\\right|=\\left|\\vec{e}_y\\right|=\\left|\\vec{e}_z\\right|=1$$\n",
    "  \n",
    "* Usage of the location vector:\n",
    "\n",
    "* Location point to position $P1$ with coordinates $(x_1,y_1,z_1)$:\n",
    "  $$\\vec{r}_1=x_1\\,\\vec{e}_x+y_1\\,\\vec{e}_y+z_1\\,\\vec{e}_z$$\n",
    "  \n",
    "  Then the distance $r_1$ from the origin to the position is \n",
    "  \n",
    "  $$\\left|\\vec{r}_1\\right|=\\sqrt{x_1^2+y_1^2+z_1^2}\\quad .$$\n",
    "\n",
    "* Arbitrary location vector\n",
    "  $$\\vec{r}=x\\,\\vec{e}_x+y\\,\\vec{e}_y+z\\,\\vec{e}_z$$\n",
    "  \n",
    "  please note that $x, y, z$ can be function of some phyiscal qunatities, e.g. time.\n",
    "  \n",
    "  \n",
    "  <img src=\"figures/3.1_1.png\" alt=\"position vector\" style=\"width: 500px;\"/>"
   ]
  },
  {
   "cell_type": "markdown",
   "metadata": {
    "hide_input": true
   },
   "source": [
    "Here are some examples of important vectorial physical quantities\n",
    "\n",
    "* Velocity\n",
    "\n",
    "  $$\\vec{v}=v_x\\,\\vec{e}_x+v_y\\,\\vec{e}_y+v_z\\,\\vec{e}_z$$\n",
    "  \n",
    "* Acceleration\n",
    "\n",
    "  $$\\vec{a}=a_x\\,\\vec{e}_x+a_y\\,\\vec{e}_y+a_z\\,\\vec{e}_z$$\n",
    "\n",
    "* Force\n",
    "\n",
    "  $$\\vec{F}=F_x\\,\\vec{e}_x+F_y\\,\\vec{e}_y+F_z\\,\\vec{e}_z$$"
   ]
  },
  {
   "cell_type": "code",
   "execution_count": 7,
   "metadata": {
    "hide_input": true
   },
   "outputs": [
    {
     "data": {
      "application/vnd.jupyter.widget-view+json": {
       "model_id": "5ab15f8195d74dbf8fbf14d9bb134289",
       "version_major": 2,
       "version_minor": 0
      },
      "text/plain": [
       "interactive(children=(FloatSlider(value=0.5, description='$x$', max=1.0, min=-1.0), FloatSlider(value=-0.5, de…"
      ]
     },
     "metadata": {},
     "output_type": "display_data"
    },
    {
     "data": {
      "image/png": "[encoded data removed]",
      "text/plain": [
       "<Figure size 864x576 with 1 Axes>"
      ]
     },
     "metadata": {
      "needs_background": "light"
     },
     "output_type": "display_data"
    }
   ],
   "source": [
    "%matplotlib inline\n",
    "import ipywidgets as widgets\n",
    "import matplotlib.pyplot as plt\n",
    "from mpl_toolkits.mplot3d import Axes3D\n",
    "import mpl_toolkits.mplot3d as mp3d\n",
    "\n",
    "import numpy as np\n",
    "xy_plane = [(-1, -1, 0),\n",
    "           (1, -1, 0),\n",
    "           (1, 1, 0),\n",
    "           (-1, 1, 0),\n",
    "           ]\n",
    "xz_plane = [(-1, 0, -1),\n",
    "           (1, 0, -1),\n",
    "           (1, 0, 1),\n",
    "           (-1, 0, 1),\n",
    "           ]\n",
    "yz_plane = [(0, -1, -1),\n",
    "           (0, 1, -1),\n",
    "           (0, 1, 1),\n",
    "           (0, -1, 1),\n",
    "           ]\n",
    "\n",
    "fig = plt.figure(figsize=(12,8))\n",
    "ax = fig.add_subplot(111, projection='3d')\n",
    "\n",
    "fig.suptitle(\"Location Vector in Cartesean Coordinates\")\n",
    "mpl.rcParams['font.size'] = 12\n",
    "def update_plot(x1, y1, z1):\n",
    "    ax.clear()\n",
    "    plt.plot([-1.,1],[0,0],[0,0],\"k--\")\n",
    "    plt.plot([0,0],[-1.,1],[0,0],\"k--\")\n",
    "    plt.plot([0,0],[0,0],[-1.,1],\"k--\")\n",
    "\n",
    "    plt.plot([0,x1],[0,y1],[0,z1],'g',linewidth=2)\n",
    "    #shadows\n",
    "    plt.plot([0,x1],[0,y1],[0,0],'k',linewidth=0.5)\n",
    "    plt.plot([0,0],[0,y1],[0,z1],'k',linewidth=0.5)\n",
    "    plt.plot([0,x1],[0,0],[0,z1],'k',linewidth=0.5)\n",
    "    ax.text(1,0,0,r'$x$'); ax.text(0,1,0,r'$y$'); ax.text(0,0,1,r'$z$')\n",
    "    ax.text(x1,y1,z1,r'$P(x,y,z)$')\n",
    "    ax.scatter(x1, y1, z1, c='g', marker='o')\n",
    "    face1 = mp3d.art3d.Poly3DCollection([xy_plane], alpha=0.1, linewidth=1)\n",
    "    face1.set_facecolor((0, 0, 1, 0.1))\n",
    "    ax.add_collection3d(face1)\n",
    "    face2 = mp3d.art3d.Poly3DCollection([xz_plane], alpha=0.1, linewidth=1)\n",
    "    face2.set_facecolor((0, 0, 1, 0.1))\n",
    "    ax.add_collection3d(face2)\n",
    "    face3 = mp3d.art3d.Poly3DCollection([yz_plane], alpha=0.1, linewidth=1)\n",
    "    face3.set_facecolor((0, 0, 1, 0.1))\n",
    "    ax.add_collection3d(face3)\n",
    "    \n",
    "    ax.set_xlim(-1, 1.)\n",
    "    ax.set_ylim(-1, 1.)\n",
    "    ax.set_zlim(-1, 1.)\n",
    "    ax.set_xlabel('x-axis')\n",
    "    ax.set_ylabel('y-axis')\n",
    "    ax.set_zlabel('z-axis')\n",
    "    \n",
    "    plt.tight_layout()\n",
    "    plt.show()\n",
    "\n",
    "\n",
    "x1 = widgets.FloatSlider(min=-1, max=1, value=.5, step=0.1, description='$x$')\n",
    "y1 = widgets.FloatSlider(min=-1, max=1, value=-.5, step = 0.1, description='$y$')\n",
    "z1 = widgets.FloatSlider(min=-1, max=1, value=.5, step=0.1, description='$z$')\n",
    "widgets.interactive(update_plot, x1=x1, y1=y1, z1=z1)"
   ]
  },
  {
   "cell_type": "code",
   "execution_count": null,
   "metadata": {},
   "outputs": [],
   "source": []
  }
 ],
 "metadata": {
  "celltoolbar": "Raw Cell Format",
  "kernelspec": {
   "display_name": "Python 3 (ipykernel)",
   "language": "python",
   "name": "python3"
  },
  "language_info": {
   "codemirror_mode": {
    "name": "ipython",
    "version": 3
   },
   "file_extension": ".py",
   "mimetype": "text/x-python",
   "name": "python",
   "nbconvert_exporter": "python",
   "pygments_lexer": "ipython3",
   "version": "3.9.12"
  }
 },
 "nbformat": 4,
 "nbformat_minor": 2
}
