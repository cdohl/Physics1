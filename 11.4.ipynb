{
 "cells": [
  {
   "cell_type": "markdown",
   "id": "50c4a89c-d181-425a-99b0-93db251b75ed",
   "metadata": {},
   "source": [
    "### 11.4 Superposition of oscillations\n",
    "\n",
    "* Undisturbed superposition ⇨ Addition of the oscillation\n",
    "\n",
    "* Result depends on the frequency, amplitude and phase shift as well as the direction of oscillation\n",
    "\n",
    "#### a) same direction, same frequency $\\omega_0$\n",
    "\n",
    "\\begin{eqnarray}\n",
    "x_1&=&\\hat{x}_1\\,\\sin(\\omega_0\\,t+\\varphi_1)\\\\\n",
    "x_2&=&\\hat{x}_2\\,\\sin(\\omega_0\\,t+\\varphi_2)\n",
    "\\end{eqnarray}\n",
    "\n",
    "$$x_{ges}=x_1+x_2=\\hat{x}\\,\\sin(\\omega_0\\,t +\\varphi)$$\n",
    "\n",
    "$$\\hat{x}=\\sqrt{\\hat{x}_1^2+\\hat{x}_2^2+2\\hat{x}_1\\hat{x}_2\\cos(\\varphi_1-\\varphi_2)}$$\n",
    "\n",
    "$$\\tan\\varphi=\\frac{\\hat{x}_1\\sin\\varphi_1+\\hat{x}_2\\sin\\varphi_2}{\\hat{x}_1\\cos\\varphi_1+\\hat{x}_2\\cos\\varphi_2}$$\n"
   ]
  },
  {
   "cell_type": "code",
   "execution_count": 3,
   "id": "493141ab-c846-4bbe-b4aa-25512e447d12",
   "metadata": {
    "jupyter": {
     "source_hidden": true
    },
    "tags": []
   },
   "outputs": [
    {
     "data": {
      "application/vnd.jupyter.widget-view+json": {
       "model_id": "82dc89e249ad426293aded07f8425f41",
       "version_major": 2,
       "version_minor": 0
      },
      "text/plain": [
       "interactive(children=(FloatSlider(value=1.0, description='x1', max=1.5), FloatSlider(value=1.0, description='x…"
      ]
     },
     "metadata": {},
     "output_type": "display_data"
    }
   ],
   "source": [
    "%matplotlib inline\n",
    "from ipywidgets import *\n",
    "import numpy as np\n",
    "import matplotlib.pyplot as plt\n",
    "\n",
    "t = np.linspace(0, 8 * np.pi,500)\n",
    "omega0=1.\n",
    "T0=2.*np.pi/omega0\n",
    "\n",
    "def update(x1=1., x2=1., phi1=0., phi2=np.pi/3.):\n",
    "    fig = plt.figure(figsize=(7,4))\n",
    "    x1t=x1*np.sin(omega0*t+phi1)\n",
    "    x2t=x2*np.sin(omega0*t+phi2)\n",
    "    #in obiger Zeile braucht es +0j damit die Potenz von einer komplexen Zahl berechnet wird\n",
    "    plt.plot(t/T0,x1t,'r',t/T0,x2t,'g',t/T0,x1t+x2t,'k')\n",
    "    plt.ylim(-3.,3.)\n",
    "    plt.xlabel(r'$t/T_0$',fontsize=15)\n",
    "    plt.ylabel('Amplitude',fontsize=15)\n",
    "    plt.show()\n",
    "\n",
    "interact(update,x1=(0.,1.5), x2=(0.,1.5), phi1=(.0,np.pi), phi2=(.0,np.pi));"
   ]
  },
  {
   "cell_type": "markdown",
   "id": "7f4d4078-91c4-48f8-92fe-aa752296ff7b",
   "metadata": {},
   "source": [
    "⇨ maximum gain for $\\varphi_1 - \\varphi_2 = 0$\n",
    "\n",
    "⇨ complete extinction for $\\varphi_1 - \\varphi_2 = \\pi$ and $\\hat{x_1}=\\hat{x_2}$"
   ]
  },
  {
   "cell_type": "markdown",
   "id": "2a2183dc-08d7-4d96-bfb9-1a949bb70456",
   "metadata": {},
   "source": [
    "#### b) same direction, different frequency \n",
    "\n",
    "\\begin{eqnarray}\n",
    "x_1&=&\\hat{x}_1\\,\\sin(\\omega_1\\,t)\\\\\n",
    "x_2&=&\\hat{x}_2\\,\\sin(\\omega_2\\,t)\n",
    "\\end{eqnarray}\n",
    "\n",
    "with $\\omega_1 \\ne \\omega_2$.\n",
    "\n",
    "special case $\\hat{x}_1=\\hat{x}_2=\\hat{x}$:\n",
    "\n",
    "\\begin{eqnarray}\n",
    "x_{tot}&=&x_1(t)+x_2(t)\\\\\n",
    "&=&2\\,\\hat{x}\\,\\cos \\left( \\frac{\\omega_1-\\omega_2}{2}\\,t\\right)\\,\\sin \\left( \\frac{\\omega_1+\\omega_2}{2}\\,t\\right)\n",
    "\\end{eqnarray}\n",
    "\n",
    "with $\\Delta \\omega=\\frac{\\omega_1-\\omega_2}{2}$ and $\\bar{\\omega}=\\frac{\\omega_1+\\omega_2}{2}$\n",
    "\n",
    "$$x_{ges}=2\\,\\hat{x} \\,\\underbrace{\\cos \\left( \\Delta \\omega\\,t\\right)}_\\mbox{slow oscillation}\\,\\overbrace{\\sin \\left( \\bar{\\omega}\\,t\\right)}^\\mbox{fast oscillation}$$\n"
   ]
  },
  {
   "cell_type": "markdown",
   "id": "7d92f4f9-e8a0-4c0a-8ce4-dc272d64a414",
   "metadata": {},
   "source": [
    "Beat duration: $T_B$\n",
    "\n",
    "Modulation duration: $T_M=\\frac{2\\pi}{\\Delta\\omega}$\n",
    "\n",
    "and therefore $T_B=\\frac{T_M}{2}$."
   ]
  },
  {
   "cell_type": "markdown",
   "id": "83690d5f-0def-48a7-81f5-94ebbcace1a6",
   "metadata": {},
   "source": [
    "#### c) Propagation direction perpendicular to each other\n",
    "\n",
    "\\begin{eqnarray}\n",
    "x(t)&=&\\hat{x}\\,\\sin(\\omega_x\\,t + \\varphi_x)\\\\\n",
    "y(t)&=&\\hat{y}\\,\\sin(\\omega_y\\,t + \\varphi_y)\n",
    "\\end{eqnarray}\n",
    "\n",
    "\n",
    "⇨ standing figures: Lissajous figures\n",
    "  for rational frequency ratios\n",
    "  \n",
    "  $$\\omega_x : \\omega_y = 1:1,\\, 1:2,\\, 2:3,\\, 5:7,\\, \\dots$$\n",
    "  "
   ]
  },
  {
   "cell_type": "code",
   "execution_count": 2,
   "id": "c12c048b-d39c-426f-a939-8d074aee0ee0",
   "metadata": {},
   "outputs": [
    {
     "data": {
      "application/vnd.jupyter.widget-view+json": {
       "model_id": "b0c9fdec6e7c4ca08af4a5d92055c7fe",
       "version_major": 2,
       "version_minor": 0
      },
      "text/plain": [
       "interactive(children=(FloatSlider(value=1.0, description='omega_x', max=5.0, min=1.0), FloatSlider(value=2.0, …"
      ]
     },
     "metadata": {},
     "output_type": "display_data"
    }
   ],
   "source": [
    "%matplotlib inline\n",
    "from ipywidgets import *\n",
    "import numpy as np\n",
    "import matplotlib.pyplot as plt\n",
    "\n",
    "\n",
    "omega0=1.\n",
    "T0=2.*np.pi/omega0\n",
    "\n",
    "xa=1.\n",
    "ya=1.\n",
    "def update(omega_x=1., omega_y=2., phi_x=0., phi_y=0.):\n",
    "    fig = plt.figure(figsize=(6,6))\n",
    "    t = np.linspace(0, 10. * np.pi,500)\n",
    "    x=xa*np.sin(omega_x*t+phi_x)\n",
    "    y=xa*np.sin(omega_y*t+phi_y)\n",
    "    #in obiger Zeile braucht es +0j damit die Potenz von einer komplexen Zahl berechnet wird\n",
    "    plt.plot(x,y,)\n",
    "    plt.ylim(-1.1,1.1);plt.xlim(-1.1,1.1)\n",
    "    ax=plt.gca()\n",
    "    ax.spines['left'].set_position('center'); ax.spines['right'].set_color('none')\n",
    "    ax.spines['bottom'].set_position('center');ax.spines['top'].set_color('none')\n",
    "    #ax.spines['left'].set_smart_bounds(True);ax.spines['bottom'].set_smart_bounds(True)\n",
    "    ax.xaxis.set_ticks_position('bottom');ax.yaxis.set_ticks_position('left')\n",
    "    plt.show()\n",
    "\n",
    "interact(update,omega_x=(1.,5.), omega_y=(1.,5.), phi_x=(-1.5,1.5), phi_y=(-1.5,1.5));"
   ]
  },
  {
   "cell_type": "code",
   "execution_count": null,
   "id": "af832183-571f-4483-9edc-ca1a2b9c11a6",
   "metadata": {},
   "outputs": [],
   "source": []
  }
 ],
 "metadata": {
  "kernelspec": {
   "display_name": "Python 3 (ipykernel)",
   "language": "python",
   "name": "python3"
  },
  "language_info": {
   "codemirror_mode": {
    "name": "ipython",
    "version": 3
   },
   "file_extension": ".py",
   "mimetype": "text/x-python",
   "name": "python",
   "nbconvert_exporter": "python",
   "pygments_lexer": "ipython3",
   "version": "3.9.12"
  }
 },
 "nbformat": 4,
 "nbformat_minor": 5
}
