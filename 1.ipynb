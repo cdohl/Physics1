{
 "cells": [
  {
   "cell_type": "markdown",
   "metadata": {},
   "source": [
    "### Lecture and Scripts\n",
    "\n",
    "* Every week one lecture \n",
    "* Every two weeks a *lecture tutorial* with some simple experiments (Prof. Ohl)\n",
    "* Every two weeks a in *class tutorial* (Dr. Yuzhe Fan)\n",
    "* We have an e-learning web site where you obtain access to the script and tutorial sheets\n",
    "\n",
    "\n",
    "### Tutorial particulars\n",
    "\n",
    "* Prepare the tutorial excercises in advance and hand it through the e-learning side before the tutorial starts. You can contact your peers, discuss the approach or solution, yet you need to hand in **your own solution** for the class tutorials (2 weeks interval). The tutorials are for you to demonstrate and show the solution, it is not another lecture.\n",
    "\n",
    "* You will be asked to demonstrate the solutions or parts of the solution in the tutorial class.\n",
    "\n",
    "* First tutorial will be a test... for us to understand your background and for youself what you may have to catch up.\n",
    "\n",
    "### Exams \n",
    "\n",
    "* 120 minutes for written exam  \n",
    "* Requirement: hand in of at least 4 tutorials (out of 7 in total) with 50% of the marks or more\n"
   ]
  },
  {
   "cell_type": "code",
   "execution_count": null,
   "metadata": {},
   "outputs": [],
   "source": []
  }
 ],
 "metadata": {
  "kernelspec": {
   "display_name": "Python 3 (ipykernel)",
   "language": "python",
   "name": "python3"
  },
  "language_info": {
   "codemirror_mode": {
    "name": "ipython",
    "version": 3
   },
   "file_extension": ".py",
   "mimetype": "text/x-python",
   "name": "python",
   "nbconvert_exporter": "python",
   "pygments_lexer": "ipython3",
   "version": "3.9.12"
  }
 },
 "nbformat": 4,
 "nbformat_minor": 2
}
