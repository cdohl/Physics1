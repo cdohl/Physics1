{
 "cells": [
  {
   "cell_type": "markdown",
   "id": "b21a2c11-5a2c-4c00-97f0-1d69aab36ac3",
   "metadata": {
    "tags": []
   },
   "source": [
    " ## 8. Rotational dynamics & energy\n",
    " \n",
    " Let us describe the rotatation of a disk with radius $R$ rotating around a center point C.\n",
    " \n",
    " The angle of of rotation is called $\\Theta$, and the tangential velocity of the rim of the disk is $v=\\omega R=\\dot{\\theta}R$.\n",
    " \n",
    " <img src=\"figures/8n.1_1.png\" width=240px>\n",
    " \n",
    " \n",
    " If we allow for an acclerated motion, i.e. the angular velocity is allowed to change, then we have a \n",
    " $a_\\mbox{tan}=\\dot{\\omega}R=\\ddot{\\Theta}R=\\alpha R$.\n",
    " \n",
    " Here $\\alpha$ is the angular acceleration.\n",
    " \n",
    " We can connect the linear and the circular motion by replacing the variables as shown in the table below.\n",
    " \n",
    "| linear motion | circular motion |\n",
    "| --- | ---|\n",
    "| x |  $\\Theta$ | \n",
    "| v |  $\\omega$ | \n",
    "| a |  $\\alpha$ | \n",
    "| m |  I | \n",
    "\n",
    "\n",
    "Thus the position $x$ in linear motion becomes the angle $\\Theta$. We can rewrite the formulas for motion with constant acceleration first as linear motion:\n",
    "\n",
    "$$x(t)=x_0+v_0 t + \\frac{1}{2}a t^2$$\n",
    "\n",
    "and for circular motion:\n",
    "\n",
    "$$\\Theta(t)=\\Theta_0+\\omega t + \\frac{1}{2}\\alpha t^2\\quad .$$\n",
    "\n",
    "And similiarily for the velocity in linear motion:\n",
    "\n",
    "$$v(t)=v_0 + a t$$\n",
    "\n",
    "compared to \n",
    "\n",
    "$$\\omega(t)=\\omega_0+\\alpha t\\quad .$$\n",
    "\n",
    "\n",
    "Let us now describe the kinetic energy of a rotating disk. The disk rotates through a stationary axis.\n",
    "\n",
    "\n",
    "\n",
    "\n",
    "\n",
    "\n",
    "\n",
    "\n",
    "\n",
    "Jetzt beschreiben wird die Rotationsenergie des einen Massenpunktes $m$ durch die kinetische Energie des Systems:\n",
    "\n",
    "$$E_{kin}=\\frac{1}{2}m\\,v^2=\\frac{1}{2}m\\,r_Z^2\\,\\omega^2$$\n",
    "\n",
    "Hier ist die Bewegung eine reine Rotation, d.h. die kinetische Energie besteht nur aus der Rotationsenergie\n",
    "\n",
    "$$E_{rot}=E_{kin}$$\n",
    "\n",
    "und die Konstante in der Rotationsenergie ist $J_{Z,\\vec{\\omega}}=m\\,r_Z^2$.\n",
    "\n",
    "$$E_{rot}=\\frac{1}{2}J_{Z,\\vec{\\omega}}\\,\\omega^2$$\n",
    "\n",
    "$J_{Z,\\vec{\\omega}}$ ist das Massenträgheitsmoment der Rotationsbewegung um eine Achse die durch den Punkt $Z$ in Richtung $\\vec{\\omega}$ geht."
   ]
  },
  {
   "cell_type": "code",
   "execution_count": null,
   "id": "6f4618d4-b8aa-4bf5-ac61-42a89fcdac78",
   "metadata": {},
   "outputs": [],
   "source": []
  }
 ],
 "metadata": {
  "kernelspec": {
   "display_name": "Python 3 (ipykernel)",
   "language": "python",
   "name": "python3"
  },
  "language_info": {
   "codemirror_mode": {
    "name": "ipython",
    "version": 3
   },
   "file_extension": ".py",
   "mimetype": "text/x-python",
   "name": "python",
   "nbconvert_exporter": "python",
   "pygments_lexer": "ipython3",
   "version": "3.9.12"
  }
 },
 "nbformat": 4,
 "nbformat_minor": 5
}
