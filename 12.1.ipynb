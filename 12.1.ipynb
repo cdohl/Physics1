{
 "cells": [
  {
   "cell_type": "markdown",
   "id": "0aa95679-f5e8-4b8a-a700-96450537d07a",
   "metadata": {},
   "source": [
    "## 12 General wave theory\n",
    "### 12.1 One-dimensional wave propagation: representation and wave equation\n",
    "\n",
    "\n",
    "* Wave: A spatially propagating change (disturbance) or oscillation of a spatial **and** time-dependent physical quantity\n",
    "\n",
    "  $$u=u(t,\\vec{r})\\quad \\vec{r}\\,\\,\\,\\mathrm{: location coordinate}$$\n",
    "  \n",
    "* For the propagation e.g. along the $x$-direction\n",
    "\n",
    "  $$u=u(t,x)$$\n",
    "  \n",
    "* The wave does not transport mass. Particles participating in the transport remain stationary on average over time.\n",
    "\n",
    "* Coupling of the oscillators leads to propagation of the disturbance (transport of energy)\n",
    "  \n",
    "  ⇨ Propagation speed is the phase velocity $c$\n",
    "  \n",
    "* We distinguish between transverse waves and longitudinal waves\n",
    "\n",
    "* Transverse waves:\n",
    "  * Oscillation occurs perpendicular to the direction of propagation\n",
    "  * Example: rope waves, water waves, electromagnetic waves, earthquakes\n",
    "  \n",
    "* Longitudinal waves:\n",
    "  * Oscillation parallel to the direction of propagation\n",
    "  * Example: spring, sound waves, rods with longitudinal excitation\n",
    "  \n",
    "* Harmonic wave along the positive $x$-direction\n",
    "\n",
    "  $$u(t,x) = \\hat{u} \\, \\sin\\underbrace{\\left[\\omega\\left(t-\\frac{x}{c}\\right)+\\varphi_0\\right]}_{\\mathrm{Phase}\\,\\varphi}$$\n",
    "\n",
    "  * The phase $\\varphi$ describes the deflection state of the physical quantity.\n",
    "  * If the phase $\\varphi$ is constant, then\n",
    "  \n",
    "    $$t-\\frac{x}{c}=\\mathrm{konst.}$$ \n",
    "  \n",
    "    must be constant. The minus sign applies to propagation in the positive $x$-direction.\n",
    "    \n",
    "* Harmonic wave along the negative $x$-direction\n",
    "\n",
    "\n",
    "  $$ t+\\frac{x}{c}=\\mathrm{konst.}$$\n",
    "  \n",
    "  ⇨ \n",
    "  \n",
    "  $$u(t,x) = \\hat{u} \\, \\sin\\left[\\omega\\left(t+\\frac{x}{c}\\right)+\\varphi_0\\right]$$\n"
   ]
  },
  {
   "cell_type": "markdown",
   "id": "cd0f299f-5712-435e-bc37-d44f46f6067e",
   "metadata": {},
   "source": [
    "* Oscillation of a particle at location $x_0$ :"
   ]
  },
  {
   "cell_type": "code",
   "execution_count": 8,
   "id": "93c36709-ad22-4e2b-98c8-5d870be7fad4",
   "metadata": {
    "jupyter": {
     "source_hidden": true
    }
   },
   "outputs": [
    {
     "data": {
      "application/vnd.jupyter.widget-view+json": {
       "model_id": "dc209ca47e684d5daed658c0a91c282c",
       "version_major": 2,
       "version_minor": 0
      },
      "text/plain": [
       "interactive(children=(FloatSlider(value=0.0, description='x0', max=1.0, min=-1.0), FloatSlider(value=1.0, desc…"
      ]
     },
     "metadata": {},
     "output_type": "display_data"
    }
   ],
   "source": [
    "%matplotlib inline\n",
    "from ipywidgets import *\n",
    "import numpy as np\n",
    "import matplotlib.pyplot as plt\n",
    "\n",
    "\n",
    "def arrowed_spines(fig, ax):\n",
    "\n",
    "    xmin, xmax = ax.get_xlim() \n",
    "    ymin, ymax = ax.get_ylim()\n",
    "\n",
    "    # removing the default axis on all sides:\n",
    "    for side in ['bottom','right','top','left']:\n",
    "        ax.spines[side].set_visible(False)\n",
    "\n",
    "    # removing the axis ticks\n",
    "    plt.xticks([]) # labels \n",
    "    plt.yticks([])\n",
    "    ax.xaxis.set_ticks_position('none') # tick markers\n",
    "    ax.yaxis.set_ticks_position('none')\n",
    "\n",
    "    # get width and height of axes object to compute \n",
    "    # matching arrowhead length and width\n",
    "    dps = fig.dpi_scale_trans.inverted()\n",
    "    bbox = ax.get_window_extent().transformed(dps)\n",
    "    width, height = bbox.width, bbox.height\n",
    "\n",
    "    # manual arrowhead width and length\n",
    "    hw = 1./20.*(ymax-ymin) \n",
    "    hl = 1./20.*(xmax-xmin)\n",
    "    lw = 1. # axis line width\n",
    "    ohg = 0.3 # arrow overhang\n",
    "\n",
    "    # compute matching arrowhead length and width\n",
    "    yhw = hw/(ymax-ymin)*(xmax-xmin)* height/width \n",
    "    yhl = hl/(xmax-xmin)*(ymax-ymin)* width/height\n",
    "\n",
    "    # draw x and y axis\n",
    "    ax.arrow(xmin, 0, xmax-xmin, 0., fc='k', ec='k', lw = lw, \n",
    "             head_width=hw, head_length=hl, overhang = ohg, \n",
    "             length_includes_head= True, clip_on = False) \n",
    "\n",
    "    ax.arrow(0, ymin, 0., ymax-ymin, fc='k', ec='k', lw = lw, \n",
    "             head_width=yhw, head_length=yhl, overhang = ohg, \n",
    "             length_includes_head= True, clip_on = False)\n",
    "\n",
    "\n",
    "c=1.\n",
    "def update(x0=0., omega=1., phi0=0):\n",
    "    t = np.linspace(0, 6 * np.pi,500)\n",
    "    T=2.*np.pi/omega\n",
    "    u=np.sin(omega*(t-x0/c)+phi0)\n",
    "    \n",
    "    fig = plt.figure(figsize=(9,4))\n",
    "    \n",
    "    plt.plot(t/T,u)\n",
    "    plt.xlabel(r'Time $(t/T)$',fontsize=15)\n",
    "    plt.ylabel(r'Amplitude',fontsize=15)\n",
    "    arrowed_spines(fig, plt.gca())\n",
    "    if omega>=0.5:\n",
    "        lx1=((np.pi/2.-phi0)/omega+x0/c)/T\n",
    "        lx2=((5*np.pi/2.-phi0)/omega+x0/c)/T\n",
    "        plt.plot([lx1,lx1],[1,-1],'k','-.')\n",
    "        plt.plot([lx2,lx2],[1,-1],'k','-.')\n",
    "        plt.text((lx1+(lx2-lx1)/2.),-.42,r'$T$',fontsize=15)\n",
    "        #plt.annotate(s='', xy=(lx2,-0.5), xytext=(lx1,-0.5), arrowprops=dict(arrowstyle='<->'))\n",
    "    plt.show()\n",
    "\n",
    "interact(update,x0=(-1.,1.), omega=(0.2,2.), phi0=(-1.6,1.6));"
   ]
  },
  {
   "cell_type": "markdown",
   "id": "028b0c2b-01a0-4331-af66-a159595bd775",
   "metadata": {},
   "source": [
    "Period duration ⇨ temporal periodicity\n",
    "  $$ \\omega = \\frac{2\\pi}{T} $$\n",
    "\n",
    "  ----\n",
    "* Instantaneous image of a wave at the time $t=t_0$\n",
    "  ⇨ $u(t_0,x)$"
   ]
  },
  {
   "cell_type": "code",
   "execution_count": 5,
   "id": "a8c7b59a-6e03-4f50-8837-133f12b68f2b",
   "metadata": {
    "jupyter": {
     "source_hidden": true
    }
   },
   "outputs": [
    {
     "data": {
      "application/vnd.jupyter.widget-view+json": {
       "model_id": "cb07f1a5ab7a4c5f9f1f43b52470ce83",
       "version_major": 2,
       "version_minor": 0
      },
      "text/plain": [
       "interactive(children=(FloatSlider(value=0.0, description='t0', max=3.0, min=-1.0), FloatSlider(value=1.0, desc…"
      ]
     },
     "metadata": {},
     "output_type": "display_data"
    }
   ],
   "source": [
    "%matplotlib inline\n",
    "from ipywidgets import *\n",
    "import numpy as np\n",
    "import matplotlib.pyplot as plt\n",
    "\n",
    "\n",
    "c=1.\n",
    "def update(t0=0., omega=1., phi0=0):\n",
    "    x = np.linspace(0, 6 * np.pi,500)\n",
    "    l = 2*np.pi*c/omega\n",
    "    u=np.sin(omega*(t0-x/c)+phi0)\n",
    "    \n",
    "    fig = plt.figure(figsize=(9,4))\n",
    "    \n",
    "    plt.plot(x/l,u,'r')\n",
    "    plt.xlabel(r'Ort $(x/\\lambda)$',fontsize=15)\n",
    "    plt.ylabel(r'Amplitude',fontsize=15)\n",
    "    arrowed_spines(fig, plt.gca())\n",
    "    if omega>=0.5:\n",
    "        lx1=c*((np.pi/2.+phi0)/omega+t0)/l\n",
    "        lx2=c*((+5*np.pi/2.+phi0)/omega+t0)/l\n",
    "        plt.plot([lx1,lx1],[1,-1],'k','-.')\n",
    "        plt.plot([lx2,lx2],[1,-1],'k','-.')\n",
    "        plt.text((lx1+(lx2-lx1)/2.),-.42,r'$\\lambda$',fontsize=15)\n",
    "        #plt.annotate(s='', xy=(lx2,-0.5), xytext=(lx1,-0.5), arrowprops=dict(arrowstyle='<->'))\n",
    "    plt.show()\n",
    "\n",
    "interact(update,t0=(-1.,3.), omega=(0.2,2.), phi0=(-1.6,1.6));"
   ]
  },
  {
   "cell_type": "markdown",
   "id": "3ef73b86-8eed-40d2-b304-36398108c21f",
   "metadata": {},
   "source": [
    "  Wavelength ⇨ Spatial periodicity\n",
    "  \n",
    "  ⇨ Wave number: \n",
    "  $$k=\\frac{2\\pi}{\\lambda}$$\n",
    "\n",
    "\n",
    "  * Relationship to the phase velocity\n",
    "\n",
    "  $$c=\\frac{\\lambda}{T}=\\frac{2\\,\\pi}{T}\\cdot \\frac{\\lambda}{2\\,\\pi}=\\omega \\cdot \\frac{1}{k}$$\n",
    "  \n",
    "  \n",
    "  ⇨$$c=\\frac{\\omega}{k}$$\n",
    "  \n",
    "  Insert into the wave equation\n",
    "  \n",
    "  ⇨\n",
    "  \\begin{eqnarray}\n",
    "  u(t,x)&=&\\hat{u}\\,\\sin\\left(\\omega\\, t-k\\, x +\\varphi_0\\right)\\\\\n",
    "  &=& \\hat{u} ,\\sin\\left(\\frac{2\\pi}{T}\\, t-\\frac{2\\pi}{\\lambda}\\, x +\\varphi_0\\right)\n",
    "  \\end{eqnarray}"
   ]
  },
  {
   "cell_type": "markdown",
   "id": "0f3b8398-1a17-4edf-9706-263c83fc60a0",
   "metadata": {},
   "source": [
    "* General partial differential equation (PDE) for a wave: \n",
    "  \\begin{eqnarray}\n",
    "  \\frac{\\partial^2\\,u}{\\partial\\, x^2}&=&-\\hat{u}\\,k^2\\,\\sin\\left(\\omega t - kx -\\varphi_0\\right)\\\\\n",
    "    \\frac{\\partial^2\\,u}{\\partial\\, t^2}&=&-\\hat{u}\\,\\omega^2\\,\\sin\\left(\\omega t - kx -\\varphi_0\\right)\n",
    "  \\end{eqnarray}\n",
    "  \n",
    "  Insert the 2nd order derivatives:\n",
    "  \n",
    "  \\begin{eqnarray}\n",
    "  \\frac{1}{\\omega^2}\\,\\frac{\\partial^2\\,u}{\\partial\\, t^2}&=&\n",
    "  \\frac{1}{k^2}\\frac{\\partial^2\\,u}{\\partial\\, x^2}\\\\\n",
    "   \\frac{k^2}{\\omega^2}\\,\\frac{\\partial^2\\,u}{\\partial\\, t^2}&=&\n",
    "  \\frac{\\partial^2\\,u}{\\partial\\, x^2}\n",
    "  \\end{eqnarray}\n",
    "  \n",
    "  <div class=\"alert alert-success\">\n",
    "  <b>General wave equation in one dimension</b>\n",
    "  $$\\frac{1}{c^2}\\,\\frac{\\partial^2\\,u}{\\partial\\, t^2}=\n",
    "  \\frac{\\partial^2\\,u}{\\partial\\, x^2}$$\n",
    "  </div>\n",
    "  ⇨ $c$ is a material property\n",
    " "
   ]
  },
  {
   "cell_type": "code",
   "execution_count": null,
   "id": "a197d864-509c-430e-8c05-e80fe841a65f",
   "metadata": {},
   "outputs": [],
   "source": []
  }
 ],
 "metadata": {
  "kernelspec": {
   "display_name": "Python 3 (ipykernel)",
   "language": "python",
   "name": "python3"
  },
  "language_info": {
   "codemirror_mode": {
    "name": "ipython",
    "version": 3
   },
   "file_extension": ".py",
   "mimetype": "text/x-python",
   "name": "python",
   "nbconvert_exporter": "python",
   "pygments_lexer": "ipython3",
   "version": "3.12.5"
  }
 },
 "nbformat": 4,
 "nbformat_minor": 5
}
