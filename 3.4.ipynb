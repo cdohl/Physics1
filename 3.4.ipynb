{
 "cells": [
  {
   "cell_type": "markdown",
   "metadata": {},
   "source": [
    "### 3.4 Compound motion: projectile trajectory\n",
    "\n",
    "A compound motion is the undisturbed superimposition of multiple movements. Here we have an example of two undisturbed/uncorrelated motions, one parallel to $\\vec{e}_x$ and one parallel to $\\vec{e}_z$ that is named the projectile trajectory\n",
    "\n",
    "The projectile motion starts at $t=0$ with an initial veloccity\n",
    "\n",
    "$$\n",
    "\\begin{eqnarray} \n",
    "  v_{z,0}&=&v_0\\,\\sin\\beta \\\\\n",
    "  v_{x,0}&=&v_0\\,\\cos\\beta \\\\\n",
    "  v_0&=&\\left|\\vec{v}_0\\right|\n",
    "\\end{eqnarray}\n",
    "$$\n",
    "\n",
    " <img src=\"figures/3.4_1.png\" width=\"260\">\n",
    "  \n",
    "\n",
    "The resulting motion is shown in below figure:"
   ]
  },
  {
   "cell_type": "code",
   "execution_count": 7,
   "metadata": {
    "hide_input": true,
    "tags": []
   },
   "outputs": [
    {
     "data": {
      "image/png": "[encoded data removed]",
      "text/plain": [
       "<Figure size 576x288 with 1 Axes>"
      ]
     },
     "metadata": {},
     "output_type": "display_data"
    }
   ],
   "source": [
    "%matplotlib inline\n",
    "import matplotlib.pyplot as plt\n",
    "import numpy as np\n",
    "import matplotlib as mpl\n",
    "import matplotlib.patches as patches\n",
    "mpl.rcParams['font.size'] = 15\n",
    "\n",
    "g=9.81\n",
    "beta=45.\n",
    "v0=5\n",
    "vx0=v0*np.cos(beta*np.pi/180.)\n",
    "vz0=v0*np.sin(beta*np.pi/180.)\n",
    "H=.3\n",
    "#Zeit variable\n",
    "x=np.linspace(0,2.1,100)\n",
    "#Gleichung\n",
    "z=-g/2*x**2/vx0**2+vz0/vx0*x+H\n",
    "\n",
    "plt.figure(1, figsize=(8, 4))\n",
    "ax=plt.gca()\n",
    "plt.plot(x,z)\n",
    "ax.axhline(color='k',linewidth=1);ax.axvline(color='k',linewidth=1)\n",
    "ax.set_xlabel('x');ax.set_ylabel('z');\n",
    "ax.set_xticks([]);ax.set_yticks([])\n",
    "ax.spines['top'].set_visible(False);ax.spines['right'].set_visible(False)\n",
    "ax.spines['bottom'].set_visible(False);ax.spines['left'].set_visible(False)\n",
    "#unit vectors\n",
    "ax.arrow(0., 0., .35, 0, lw=1., fc='k', ec='k', head_width=.05, head_length=.05, length_includes_head=True)\n",
    "ax.arrow(0., 0., 0, .25, lw=1., fc='k', ec='k', head_width=.05, head_length=.05, length_includes_head=True)\n",
    "ax.text(0.1,-0.1,r'$\\vec{e}_x$');ax.text(-0.1,0.1,r'$\\vec{e}_z$')\n",
    "#velocity vector\n",
    "ss=.1\n",
    "ax.arrow(0., H, vx0*ss, vz0*ss, lw=1., fc='k', ec='k', head_width=.05, head_length=.05, length_includes_head=True)\n",
    "plt.plot([0,1.5*vx0*ss],[H,H],'k--')\n",
    "ax.text(vx0*ss,H+vz0*ss*1.1,r'$\\vec{v}_0$');\n",
    "#angle\n",
    "arc = patches.Arc((0.,H), vx0*ss*1.5, vz0*ss*1.5, 1.,0.,np.arctan2(vx0,vz0)*180./np.pi,linewidth=2.)\n",
    "ax.add_patch(arc)\n",
    "ax.text(vx0*ss*.3,H+vz0*ss*.1,r'$\\beta$')\n",
    "plt.show()"
   ]
  },
  {
   "cell_type": "markdown",
   "metadata": {
    "hide_input": false
   },
   "source": [
    "Derivation of the projectile motion\n",
    "\n",
    "The acceleration in $z$ and $x$-direction: \n",
    "\n",
    "$$a_z(t)=-g=\\mathrm{const.}\\quad a_x(t)=0\\quad.$$\n",
    "\n",
    "The initial velocity in $z$ and $x$-direction: \n",
    "\n",
    "$$v_z(t=0)=v_{z,0}\\quad v_x(t=0)=v_{x,0}\\quad.$$\n",
    "\n",
    "The initial position:\n",
    "\n",
    "$$z(t=0)=H\\quad x(t=0)=0\\quad.$$\n",
    "\n",
    "Equation (3.1.1) describes a one-dimensional movement with uniform acceleration. We now enter the acceleration, initial velocity and initial position for the $x$ and $z$-directions separately:\n",
    "\n",
    "Starting with the $z$-direction:\n",
    "\n",
    "$$z(t)=-\\frac{g}{2} t^2+v_{z,0}\\,t+H\\tag{3.4.1}$$\n",
    "\n",
    "und now for the $x$-direction:\n",
    "\n",
    "$$x(t)=v_{x,0}\\,t\\tag{3.4.2}$$\n",
    "\n",
    "We can use equation (3.4.2) to remove the time from equation (3.4.1) and explicitly write down the trajectory $z(x)$. According to equation (3.4.2), $t=\\frac{x}{v_{x,0}}$ and inserted into equation (3.4.1) we obtain the * parabola* of the projectile:\n",
    "\n",
    "$$z(x)=-\\frac{g}{2} \\frac{x^2}{v_{x,0}^2}+\\frac{v_{z,0}}{v_{x,0}}\\,x+H\\tag{3.4.3}$$\n",
    "\n",
    "\n",
    "We can also express the initial velocities by $v_0$ and the angle $\\beta$:\n",
    "\n",
    "$$z(x)=-\\frac{g}{2} \\frac{x^2}{\\left(v_{0}\\,\\cos\\beta\\right)^2}+\\tan\\beta\\,x+H\\tag{3.4.4}$$\n",
    "\n",
    "Change the angle $\\beta$ below and find the angle at which the throwing parabola reaches the minimum and maximum distance."
   ]
  },
  {
   "cell_type": "code",
   "execution_count": 6,
   "metadata": {
    "hide_input": true,
    "tags": []
   },
   "outputs": [
    {
     "data": {
      "application/vnd.jupyter.widget-view+json": {
       "model_id": "34f6b726424a46c5a78debffa506aa21",
       "version_major": 2,
       "version_minor": 0
      },
      "text/plain": [
       "interactive(children=(FloatSlider(value=30.0, description='$\\\\beta$:', max=85.0, min=5.0, step=5.0), Output())…"
      ]
     },
     "metadata": {},
     "output_type": "display_data"
    }
   ],
   "source": [
    "%matplotlib inline\n",
    "import ipywidgets as widgets\n",
    "from IPython.display import clear_output\n",
    "import matplotlib.pyplot as plt\n",
    "import numpy as np\n",
    "import matplotlib as mpl\n",
    "import matplotlib.patches as patches\n",
    "mpl.rcParams['font.size'] = 15\n",
    "\n",
    "g=9.81\n",
    "v0=np.sqrt(2)*2.5\n",
    "H=.3\n",
    "#Zeit variable\n",
    "\n",
    "\n",
    "\n",
    "def update_plot(beta):\n",
    "    plt.figure(1, figsize=(10, 6));\n",
    "    x=np.linspace(0,2.1,1000)\n",
    "    betarad=beta*np.pi/180.\n",
    "    #Gleichung\n",
    "    vx0=v0*np.cos(betarad)\n",
    "    vz0=v0*np.sin(betarad)\n",
    "    \n",
    "    z=-g/2*x**2/vx0**2+vz0/vx0*x+H\n",
    "    z=z[np.where(z>0.)]\n",
    "    x=x[0:len(z)]\n",
    "    \n",
    "    ax=plt.gca()\n",
    "    plt.plot(x,z)\n",
    "    ax.axhline(color='k',linewidth=1);ax.axvline(color='k',linewidth=1)\n",
    "    ax.set_xlabel('x');ax.set_ylabel('z');\n",
    "    ax.set_xticks([]);ax.set_yticks([])\n",
    "    ax.spines['top'].set_visible(False);ax.spines['right'].set_visible(False)\n",
    "    ax.spines['bottom'].set_visible(False);ax.spines['left'].set_visible(False)\n",
    "    #unit vectors\n",
    "    ax.arrow(0., 0., .35, 0, lw=1., fc='k', ec='k', head_width=.05, head_length=.05, length_includes_head=True)\n",
    "    ax.arrow(0., 0., 0, .25, lw=1., fc='k', ec='k', head_width=.05, head_length=.05, length_includes_head=True)\n",
    "    ax.text(0.1,-0.1,r'$\\vec{e}_x$');ax.text(-0.1,0.1,r'$\\vec{e}_z$')\n",
    "    #velocity vector\n",
    "    ss=.1\n",
    "    ax.arrow(0., H, vx0*ss, vz0*ss, lw=1., fc='k', ec='k', head_width=.05, head_length=.05, length_includes_head=True)\n",
    "    plt.plot([0,1.5*vx0*ss],[H,H],'k--')\n",
    "    ax.text(vx0*ss,H+vz0*ss*1.1,r'$\\vec{v}_0$');\n",
    "    #angle\n",
    "    arc = patches.Arc((0.,H), vx0*ss*1.5, vz0*ss*1.5, 1.,0.,np.arctan2(vz0,vx0)*180./np.pi,linewidth=2.)\n",
    "    ax.add_patch(arc)\n",
    "    ax.text(vx0*ss*.3,H+vz0*ss*.1,r'$\\beta$')\n",
    "    ax.set_xlim([-0.1,2.3])\n",
    "    ax.set_ylim([-.1,1.4])\n",
    "    clear_output(wait=True);\n",
    "    plt.show();\n",
    "    \n",
    "    \n",
    "tv = widgets.FloatSlider(value=30., min=5., max =85., step=5., \n",
    "                              description=r'$\\beta$:');\n",
    "widgets.interactive(update_plot, beta=tv)"
   ]
  },
  {
   "cell_type": "markdown",
   "metadata": {},
   "source": [
    "For the special case of $H=0$, we now determine the distance $x_w$. At impact, $z=0$ in equation (3.4.4) and we transform:.\n",
    "\n",
    "$$x_x\\,\\tan\\beta=\\frac{g}{2}\\frac{x_w^2}{v_0^2\\,\\cos^2\\beta}$$\n",
    "\n",
    "$$x_w=\\frac{2\\cos^2\\beta\\,v_0^2}{g}\\,\\tan\\beta$$\n",
    "\n",
    "$$x_w=\\frac{2\\cos\\beta\\,\\sin\\beta\\,v_0^2}{g}$$\n",
    "\n",
    "Insertion of a trigonometric identity results:\n",
    "\n",
    "$$x_w=\\frac{v_0^2}{g}\\,\\sin\\left(2\\beta\\right)$$\n",
    "\n",
    "The angle for the maximum throwing distance results from \n",
    "\n",
    "$$\\frac{\\mathrm{d}x_w}{\\mathrm{d}\\beta}=0$$ \n",
    "\n",
    "$$\\frac{\\mathrm{d}x_w}{\\mathrm{d}\\beta}=\\frac{2\\,v_0^2}{g}\\,\\cos\\left(2\\beta\\right)=0$$\n",
    "\n",
    "$$\\cos 2\\beta=0\\quad\\rightarrow\\quad\\beta=45^{\\circ}$$\n",
    "\n"
   ]
  }
 ],
 "metadata": {
  "kernelspec": {
   "display_name": "Python 3 (ipykernel)",
   "language": "python",
   "name": "python3"
  },
  "language_info": {
   "codemirror_mode": {
    "name": "ipython",
    "version": 3
   },
   "file_extension": ".py",
   "mimetype": "text/x-python",
   "name": "python",
   "nbconvert_exporter": "python",
   "pygments_lexer": "ipython3",
   "version": "3.12.5"
  }
 },
 "nbformat": 4,
 "nbformat_minor": 4
}
